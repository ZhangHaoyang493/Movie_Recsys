{
 "cells": [
  {
   "cell_type": "code",
   "execution_count": 3,
   "metadata": {},
   "outputs": [
    {
     "name": "stderr",
     "output_type": "stream",
     "text": [
      "/var/folders/l4/h9c29wr16rgc17kf2d83v24r0000gn/T/ipykernel_24224/4183029143.py:4: ParserWarning: Falling back to the 'python' engine because the 'c' engine does not support regex separators (separators > 1 char and different from '\\s+' are interpreted as regex); you can avoid this warning by specifying engine='python'.\n",
      "  user = pd.read_csv('./data/users.dat', delimiter='::', names=user_column)\n"
     ]
    }
   ],
   "source": [
    "import pandas as pd\n",
    "\n",
    "user_column = ['userId', 'gender', 'age', 'occupation', 'zipCode']\n",
    "user = pd.read_csv('./data/users.dat', delimiter='::', names=user_column)\n"
   ]
  },
  {
   "cell_type": "code",
   "execution_count": 4,
   "metadata": {},
   "outputs": [
    {
     "data": {
      "text/html": [
       "<div>\n",
       "<style scoped>\n",
       "    .dataframe tbody tr th:only-of-type {\n",
       "        vertical-align: middle;\n",
       "    }\n",
       "\n",
       "    .dataframe tbody tr th {\n",
       "        vertical-align: top;\n",
       "    }\n",
       "\n",
       "    .dataframe thead th {\n",
       "        text-align: right;\n",
       "    }\n",
       "</style>\n",
       "<table border=\"1\" class=\"dataframe\">\n",
       "  <thead>\n",
       "    <tr style=\"text-align: right;\">\n",
       "      <th></th>\n",
       "      <th>userId</th>\n",
       "      <th>gender</th>\n",
       "      <th>age</th>\n",
       "      <th>occupation</th>\n",
       "      <th>zipCode</th>\n",
       "    </tr>\n",
       "  </thead>\n",
       "  <tbody>\n",
       "    <tr>\n",
       "      <th>0</th>\n",
       "      <td>1</td>\n",
       "      <td>F</td>\n",
       "      <td>1</td>\n",
       "      <td>10</td>\n",
       "      <td>48067</td>\n",
       "    </tr>\n",
       "    <tr>\n",
       "      <th>1</th>\n",
       "      <td>2</td>\n",
       "      <td>M</td>\n",
       "      <td>56</td>\n",
       "      <td>16</td>\n",
       "      <td>70072</td>\n",
       "    </tr>\n",
       "    <tr>\n",
       "      <th>2</th>\n",
       "      <td>3</td>\n",
       "      <td>M</td>\n",
       "      <td>25</td>\n",
       "      <td>15</td>\n",
       "      <td>55117</td>\n",
       "    </tr>\n",
       "    <tr>\n",
       "      <th>3</th>\n",
       "      <td>4</td>\n",
       "      <td>M</td>\n",
       "      <td>45</td>\n",
       "      <td>7</td>\n",
       "      <td>02460</td>\n",
       "    </tr>\n",
       "    <tr>\n",
       "      <th>4</th>\n",
       "      <td>5</td>\n",
       "      <td>M</td>\n",
       "      <td>25</td>\n",
       "      <td>20</td>\n",
       "      <td>55455</td>\n",
       "    </tr>\n",
       "  </tbody>\n",
       "</table>\n",
       "</div>"
      ],
      "text/plain": [
       "   userId gender  age  occupation zipCode\n",
       "0       1      F    1          10   48067\n",
       "1       2      M   56          16   70072\n",
       "2       3      M   25          15   55117\n",
       "3       4      M   45           7   02460\n",
       "4       5      M   25          20   55455"
      ]
     },
     "execution_count": 4,
     "metadata": {},
     "output_type": "execute_result"
    }
   ],
   "source": [
    "user.head()"
   ]
  },
  {
   "cell_type": "code",
   "execution_count": 8,
   "metadata": {},
   "outputs": [
    {
     "data": {
      "text/plain": [
       "[('3186', 4.0, 978300019),\n",
       " ('1270', 5.0, 978300055),\n",
       " ('1721', 4.0, 978300055),\n",
       " ('1022', 5.0, 978300055),\n",
       " ('2340', 3.0, 978300103),\n",
       " ('1836', 5.0, 978300172),\n",
       " ('3408', 4.0, 978300275),\n",
       " ('2804', 5.0, 978300719),\n",
       " ('1207', 4.0, 978300719),\n",
       " ('1193', 5.0, 978300760),\n",
       " ('720', 3.0, 978300760),\n",
       " ('260', 4.0, 978300760),\n",
       " ('919', 4.0, 978301368),\n",
       " ('608', 4.0, 978301398),\n",
       " ('2692', 4.0, 978301570),\n",
       " ('1961', 5.0, 978301590),\n",
       " ('2028', 5.0, 978301619),\n",
       " ('3105', 5.0, 978301713),\n",
       " ('938', 4.0, 978301752),\n",
       " ('1035', 5.0, 978301753),\n",
       " ('1962', 4.0, 978301753),\n",
       " ('2018', 4.0, 978301777),\n",
       " ('150', 5.0, 978301777),\n",
       " ('1028', 5.0, 978301777),\n",
       " ('1097', 4.0, 978301953),\n",
       " ('914', 3.0, 978301968),\n",
       " ('1287', 5.0, 978302039),\n",
       " ('2797', 4.0, 978302039),\n",
       " ('2762', 4.0, 978302091),\n",
       " ('1246', 4.0, 978302091),\n",
       " ('661', 3.0, 978302109),\n",
       " ('2918', 4.0, 978302124),\n",
       " ('531', 4.0, 978302149),\n",
       " ('3114', 4.0, 978302174),\n",
       " ('2791', 4.0, 978302188),\n",
       " ('2321', 3.0, 978302205),\n",
       " ('1029', 5.0, 978302205),\n",
       " ('1197', 3.0, 978302268),\n",
       " ('594', 4.0, 978302268),\n",
       " ('2398', 4.0, 978302281),\n",
       " ('1545', 4.0, 978824139),\n",
       " ('527', 5.0, 978824195),\n",
       " ('595', 5.0, 978824268),\n",
       " ('2687', 3.0, 978824268),\n",
       " ('745', 3.0, 978824268),\n",
       " ('588', 4.0, 978824268),\n",
       " ('1', 5.0, 978824268),\n",
       " ('2355', 5.0, 978824291),\n",
       " ('2294', 4.0, 978824291),\n",
       " ('783', 4.0, 978824291),\n",
       " ('1566', 4.0, 978824330),\n",
       " ('1907', 4.0, 978824330),\n",
       " ('48', 5.0, 978824351)]"
      ]
     },
     "execution_count": 8,
     "metadata": {},
     "output_type": "execute_result"
    }
   ],
   "source": [
    "import pickle\n",
    "\n",
    "readlist = pickle.load(open('cache/readlist.pkl', 'rb'))\n",
    "readlist['1']"
   ]
  }
 ],
 "metadata": {
  "kernelspec": {
   "display_name": "Python 3",
   "language": "python",
   "name": "python3"
  },
  "language_info": {
   "codemirror_mode": {
    "name": "ipython",
    "version": 3
   },
   "file_extension": ".py",
   "mimetype": "text/x-python",
   "name": "python",
   "nbconvert_exporter": "python",
   "pygments_lexer": "ipython3",
   "version": "3.8.6"
  }
 },
 "nbformat": 4,
 "nbformat_minor": 2
}
