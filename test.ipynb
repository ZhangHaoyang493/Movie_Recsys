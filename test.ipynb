{
 "cells": [
  {
   "cell_type": "code",
   "execution_count": 3,
   "metadata": {},
   "outputs": [
    {
     "name": "stderr",
     "output_type": "stream",
     "text": [
      "/var/folders/l4/h9c29wr16rgc17kf2d83v24r0000gn/T/ipykernel_24224/4183029143.py:4: ParserWarning: Falling back to the 'python' engine because the 'c' engine does not support regex separators (separators > 1 char and different from '\\s+' are interpreted as regex); you can avoid this warning by specifying engine='python'.\n",
      "  user = pd.read_csv('./data/users.dat', delimiter='::', names=user_column)\n"
     ]
    }
   ],
   "source": [
    "import pandas as pd\n",
    "\n",
    "user_column = ['userId', 'gender', 'age', 'occupation', 'zipCode']\n",
    "user = pd.read_csv('./data/users.dat', delimiter='::', names=user_column)\n"
   ]
  },
  {
   "cell_type": "code",
   "execution_count": 4,
   "metadata": {},
   "outputs": [
    {
     "data": {
      "text/html": [
       "<div>\n",
       "<style scoped>\n",
       "    .dataframe tbody tr th:only-of-type {\n",
       "        vertical-align: middle;\n",
       "    }\n",
       "\n",
       "    .dataframe tbody tr th {\n",
       "        vertical-align: top;\n",
       "    }\n",
       "\n",
       "    .dataframe thead th {\n",
       "        text-align: right;\n",
       "    }\n",
       "</style>\n",
       "<table border=\"1\" class=\"dataframe\">\n",
       "  <thead>\n",
       "    <tr style=\"text-align: right;\">\n",
       "      <th></th>\n",
       "      <th>userId</th>\n",
       "      <th>gender</th>\n",
       "      <th>age</th>\n",
       "      <th>occupation</th>\n",
       "      <th>zipCode</th>\n",
       "    </tr>\n",
       "  </thead>\n",
       "  <tbody>\n",
       "    <tr>\n",
       "      <th>0</th>\n",
       "      <td>1</td>\n",
       "      <td>F</td>\n",
       "      <td>1</td>\n",
       "      <td>10</td>\n",
       "      <td>48067</td>\n",
       "    </tr>\n",
       "    <tr>\n",
       "      <th>1</th>\n",
       "      <td>2</td>\n",
       "      <td>M</td>\n",
       "      <td>56</td>\n",
       "      <td>16</td>\n",
       "      <td>70072</td>\n",
       "    </tr>\n",
       "    <tr>\n",
       "      <th>2</th>\n",
       "      <td>3</td>\n",
       "      <td>M</td>\n",
       "      <td>25</td>\n",
       "      <td>15</td>\n",
       "      <td>55117</td>\n",
       "    </tr>\n",
       "    <tr>\n",
       "      <th>3</th>\n",
       "      <td>4</td>\n",
       "      <td>M</td>\n",
       "      <td>45</td>\n",
       "      <td>7</td>\n",
       "      <td>02460</td>\n",
       "    </tr>\n",
       "    <tr>\n",
       "      <th>4</th>\n",
       "      <td>5</td>\n",
       "      <td>M</td>\n",
       "      <td>25</td>\n",
       "      <td>20</td>\n",
       "      <td>55455</td>\n",
       "    </tr>\n",
       "  </tbody>\n",
       "</table>\n",
       "</div>"
      ],
      "text/plain": [
       "   userId gender  age  occupation zipCode\n",
       "0       1      F    1          10   48067\n",
       "1       2      M   56          16   70072\n",
       "2       3      M   25          15   55117\n",
       "3       4      M   45           7   02460\n",
       "4       5      M   25          20   55455"
      ]
     },
     "execution_count": 4,
     "metadata": {},
     "output_type": "execute_result"
    }
   ],
   "source": [
    "user.head()"
   ]
  },
  {
   "cell_type": "code",
   "execution_count": 1,
   "metadata": {},
   "outputs": [
    {
     "data": {
      "text/plain": [
       "[('1610', 5.0, 974709359),\n",
       " ('2080', 5.0, 974709426),\n",
       " ('3251', 5.0, 974709426),\n",
       " ('1198', 4.0, 974709605),\n",
       " ('356', 5.0, 974709605),\n",
       " ('3930', 3.0, 974710047),\n",
       " ('3932', 4.0, 974710047),\n",
       " ('3926', 3.0, 974710047),\n",
       " ('3928', 4.0, 974710047),\n",
       " ('3923', 4.0, 974710107),\n",
       " ('3271', 5.0, 974710451),\n",
       " ('527', 5.0, 974710536),\n",
       " ('2858', 5.0, 974710580),\n",
       " ('2908', 5.0, 974710580),\n",
       " ('608', 5.0, 974710614),\n",
       " ('2959', 5.0, 974710614),\n",
       " ('1183', 5.0, 974710682),\n",
       " ('1584', 5.0, 974710682),\n",
       " ('318', 5.0, 974710682),\n",
       " ('345', 5.0, 974710682),\n",
       " ('36', 5.0, 974710682),\n",
       " ('296', 5.0, 974710742),\n",
       " ('1704', 5.0, 974710792),\n",
       " ('337', 5.0, 974710878),\n",
       " ('3105', 5.0, 974710918),\n",
       " ('17', 5.0, 974710918),\n",
       " ('1358', 5.0, 974710954),\n",
       " ('150', 5.0, 974710954),\n",
       " ('351', 5.0, 974710991),\n",
       " ('3147', 5.0, 974710992),\n",
       " ('1094', 5.0, 974710992),\n",
       " ('58', 5.0, 974711021),\n",
       " ('590', 5.0, 974711046),\n",
       " ('282', 5.0, 974711152),\n",
       " ('1357', 5.0, 974711152),\n",
       " ('1678', 5.0, 974711179),\n",
       " ('2291', 5.0, 974711213),\n",
       " ('3072', 5.0, 974711366),\n",
       " ('2352', 5.0, 974711366),\n",
       " ('3361', 5.0, 974711366),\n",
       " ('1307', 5.0, 974711398),\n",
       " ('3685', 5.0, 974711438),\n",
       " ('1394', 5.0, 974711438),\n",
       " ('2797', 5.0, 974711438),\n",
       " ('2463', 3.0, 974711541),\n",
       " ('3448', 5.0, 974711541),\n",
       " ('2174', 5.0, 974711541),\n",
       " ('3501', 4.0, 974711541),\n",
       " ('2716', 3.0, 974711541),\n",
       " ('2081', 5.0, 974711569),\n",
       " ('2926', 5.0, 974711569),\n",
       " ('2407', 4.0, 974711603),\n",
       " ('2791', 5.0, 974711603),\n",
       " ('2100', 4.0, 974711634),\n",
       " ('2746', 5.0, 974711634),\n",
       " ('1081', 4.0, 974711634)]"
      ]
     },
     "execution_count": 1,
     "metadata": {},
     "output_type": "execute_result"
    }
   ],
   "source": [
    "import pickle\n",
    "\n",
    "readlist = pickle.load(open('cache/train_readlist.pkl', 'rb'))\n",
    "readlist['1670']"
   ]
  },
  {
   "cell_type": "code",
   "execution_count": null,
   "metadata": {},
   "outputs": [
    {
     "ename": "UnpicklingError",
     "evalue": "could not find MARK",
     "output_type": "error",
     "traceback": [
      "\u001b[0;31m---------------------------------------------------------------------------\u001b[0m",
      "\u001b[0;31mUnpicklingError\u001b[0m                           Traceback (most recent call last)",
      "Cell \u001b[0;32mIn[2], line 4\u001b[0m\n\u001b[1;32m      1\u001b[0m \u001b[38;5;66;03m# 发现movies.dat里面的item id不是连续的，我们将其映射为连续的\u001b[39;00m\n\u001b[1;32m      2\u001b[0m \u001b[38;5;28;01mimport\u001b[39;00m \u001b[38;5;21;01mpickle\u001b[39;00m\n\u001b[0;32m----> 4\u001b[0m item_info \u001b[38;5;241m=\u001b[39m \u001b[43mpickle\u001b[49m\u001b[38;5;241;43m.\u001b[39;49m\u001b[43mload\u001b[49m\u001b[43m(\u001b[49m\u001b[38;5;28;43mopen\u001b[39;49m\u001b[43m(\u001b[49m\u001b[38;5;124;43m'\u001b[39;49m\u001b[38;5;124;43m/Users/zhanghaoyang/Desktop/Movie_Recsys/data/movies.dat\u001b[39;49m\u001b[38;5;124;43m'\u001b[39;49m\u001b[43m,\u001b[49m\u001b[43m \u001b[49m\u001b[38;5;124;43m'\u001b[39;49m\u001b[38;5;124;43mrb\u001b[39;49m\u001b[38;5;124;43m'\u001b[39;49m\u001b[43m)\u001b[49m\u001b[43m)\u001b[49m\n\u001b[1;32m      5\u001b[0m all_items_id \u001b[38;5;241m=\u001b[39m [\u001b[38;5;28mint\u001b[39m(i[\u001b[38;5;241m0\u001b[39m]) \u001b[38;5;28;01mfor\u001b[39;00m i \u001b[38;5;129;01min\u001b[39;00m item_info]\n\u001b[1;32m      6\u001b[0m item_id_2_int \u001b[38;5;241m=\u001b[39m \u001b[38;5;28mdict\u001b[39m(\u001b[38;5;28mlist\u001b[39m(\u001b[38;5;28mzip\u001b[39m(all_items_id, \u001b[38;5;28mrange\u001b[39m(\u001b[38;5;28mlen\u001b[39m(all_items_id)))))\n",
      "\u001b[0;31mUnpicklingError\u001b[0m: could not find MARK"
     ]
    }
   ],
   "source": [
    " # 发现movies.dat里面的item id不是连续的，我们将其映射为连续的\n",
    "import pickle\n",
    "\n",
    "item_info = pickle.load(open('/Users/zhanghaoyang/Desktop/Movie_Recsys/data/movies.dat', 'rb'))\n",
    "all_items_id = [int(i[0]) for i in item_info]\n",
    "item_id_2_int = dict(list(zip(all_items_id, range(len(all_items_id)))))\n",
    "int_2_item_id = dict(list(zip(range(len(all_items_id)), all_items_id)))\n",
    "pickle.dump(item_id_2_int, open('/Users/zhanghaoyang/Desktop/Movie_Recsys/cache/item_id_2_int.pkl', 'wb'))\n",
    "pickle.dump(int_2_item_id, open('/Users/zhanghaoyang/Desktop/Movie_Recsys/cache/int_2_item_id.pkl', 'wb'))"
   ]
  },
  {
   "cell_type": "code",
   "execution_count": null,
   "metadata": {},
   "outputs": [],
   "source": [
    "import pickle\n",
    "\n",
    "# 3: 1,4   2,3\n",
    "# 4: 1,5   2,2\n",
    "\n",
    "train_readlist = {\n",
    "    '1': [('3', 4, 324423), ('4', 5, 432432)],\n",
    "    '2': [('3', 3, 324423), ('4', 2, 432432)],\n",
    "}\n",
    "\n",
    "pickle.dump(train_readlist, open('./test_cache/train_readlist.pkl', 'wb'))"
   ]
  },
  {
   "cell_type": "code",
   "execution_count": 9,
   "metadata": {},
   "outputs": [
    {
     "data": {
      "text/plain": [
       "-4.059251294892744"
      ]
     },
     "execution_count": 9,
     "metadata": {},
     "output_type": "execute_result"
    }
   ],
   "source": [
    "import pickle\n",
    "\n",
    "def dot(x, y):\n",
    "    return sum([i * j for i, j in zip(x, y)])\n",
    "\n",
    "\n",
    "user_emb = pickle.load(open('/Users/zhanghaoyang/Desktop/Movie_Recsys/recall/DSSM/user_emb.pkl', 'rb'))\n",
    "item_emb = pickle.load(open('/Users/zhanghaoyang/Desktop/Movie_Recsys/recall/DSSM/item_emb.pkl', 'rb'))\n",
    "\n",
    "# print(user_emb[1])\n",
    "# print(item_emb[1])\n",
    "\n",
    "dot(user_emb[1], item_emb[3186])"
   ]
  }
 ],
 "metadata": {
  "kernelspec": {
   "display_name": "base",
   "language": "python",
   "name": "python3"
  },
  "language_info": {
   "codemirror_mode": {
    "name": "ipython",
    "version": 3
   },
   "file_extension": ".py",
   "mimetype": "text/x-python",
   "name": "python",
   "nbconvert_exporter": "python",
   "pygments_lexer": "ipython3",
   "version": "3.12.8"
  }
 },
 "nbformat": 4,
 "nbformat_minor": 2
}
