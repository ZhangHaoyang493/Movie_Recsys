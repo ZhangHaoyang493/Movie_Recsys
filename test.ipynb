{
 "cells": [
  {
   "cell_type": "code",
   "execution_count": 3,
   "metadata": {},
   "outputs": [
    {
     "name": "stderr",
     "output_type": "stream",
     "text": [
      "/var/folders/l4/h9c29wr16rgc17kf2d83v24r0000gn/T/ipykernel_24224/4183029143.py:4: ParserWarning: Falling back to the 'python' engine because the 'c' engine does not support regex separators (separators > 1 char and different from '\\s+' are interpreted as regex); you can avoid this warning by specifying engine='python'.\n",
      "  user = pd.read_csv('./data/users.dat', delimiter='::', names=user_column)\n"
     ]
    }
   ],
   "source": [
    "import pandas as pd\n",
    "\n",
    "user_column = ['userId', 'gender', 'age', 'occupation', 'zipCode']\n",
    "user = pd.read_csv('./data/users.dat', delimiter='::', names=user_column)\n"
   ]
  },
  {
   "cell_type": "code",
   "execution_count": 4,
   "metadata": {},
   "outputs": [
    {
     "data": {
      "text/html": [
       "<div>\n",
       "<style scoped>\n",
       "    .dataframe tbody tr th:only-of-type {\n",
       "        vertical-align: middle;\n",
       "    }\n",
       "\n",
       "    .dataframe tbody tr th {\n",
       "        vertical-align: top;\n",
       "    }\n",
       "\n",
       "    .dataframe thead th {\n",
       "        text-align: right;\n",
       "    }\n",
       "</style>\n",
       "<table border=\"1\" class=\"dataframe\">\n",
       "  <thead>\n",
       "    <tr style=\"text-align: right;\">\n",
       "      <th></th>\n",
       "      <th>userId</th>\n",
       "      <th>gender</th>\n",
       "      <th>age</th>\n",
       "      <th>occupation</th>\n",
       "      <th>zipCode</th>\n",
       "    </tr>\n",
       "  </thead>\n",
       "  <tbody>\n",
       "    <tr>\n",
       "      <th>0</th>\n",
       "      <td>1</td>\n",
       "      <td>F</td>\n",
       "      <td>1</td>\n",
       "      <td>10</td>\n",
       "      <td>48067</td>\n",
       "    </tr>\n",
       "    <tr>\n",
       "      <th>1</th>\n",
       "      <td>2</td>\n",
       "      <td>M</td>\n",
       "      <td>56</td>\n",
       "      <td>16</td>\n",
       "      <td>70072</td>\n",
       "    </tr>\n",
       "    <tr>\n",
       "      <th>2</th>\n",
       "      <td>3</td>\n",
       "      <td>M</td>\n",
       "      <td>25</td>\n",
       "      <td>15</td>\n",
       "      <td>55117</td>\n",
       "    </tr>\n",
       "    <tr>\n",
       "      <th>3</th>\n",
       "      <td>4</td>\n",
       "      <td>M</td>\n",
       "      <td>45</td>\n",
       "      <td>7</td>\n",
       "      <td>02460</td>\n",
       "    </tr>\n",
       "    <tr>\n",
       "      <th>4</th>\n",
       "      <td>5</td>\n",
       "      <td>M</td>\n",
       "      <td>25</td>\n",
       "      <td>20</td>\n",
       "      <td>55455</td>\n",
       "    </tr>\n",
       "  </tbody>\n",
       "</table>\n",
       "</div>"
      ],
      "text/plain": [
       "   userId gender  age  occupation zipCode\n",
       "0       1      F    1          10   48067\n",
       "1       2      M   56          16   70072\n",
       "2       3      M   25          15   55117\n",
       "3       4      M   45           7   02460\n",
       "4       5      M   25          20   55455"
      ]
     },
     "execution_count": 4,
     "metadata": {},
     "output_type": "execute_result"
    }
   ],
   "source": [
    "user.head()"
   ]
  },
  {
   "cell_type": "code",
   "execution_count": 3,
   "metadata": {},
   "outputs": [
    {
     "data": {
      "text/plain": [
       "[('3186', 4.0, 978300019),\n",
       " ('1270', 5.0, 978300055),\n",
       " ('1721', 4.0, 978300055),\n",
       " ('1022', 5.0, 978300055),\n",
       " ('2340', 3.0, 978300103),\n",
       " ('1836', 5.0, 978300172),\n",
       " ('3408', 4.0, 978300275),\n",
       " ('2804', 5.0, 978300719),\n",
       " ('1207', 4.0, 978300719),\n",
       " ('1193', 5.0, 978300760),\n",
       " ('720', 3.0, 978300760),\n",
       " ('260', 4.0, 978300760),\n",
       " ('919', 4.0, 978301368),\n",
       " ('608', 4.0, 978301398),\n",
       " ('2692', 4.0, 978301570),\n",
       " ('1961', 5.0, 978301590),\n",
       " ('2028', 5.0, 978301619),\n",
       " ('3105', 5.0, 978301713),\n",
       " ('938', 4.0, 978301752),\n",
       " ('1035', 5.0, 978301753),\n",
       " ('1962', 4.0, 978301753),\n",
       " ('2018', 4.0, 978301777),\n",
       " ('150', 5.0, 978301777),\n",
       " ('1028', 5.0, 978301777),\n",
       " ('1097', 4.0, 978301953),\n",
       " ('914', 3.0, 978301968),\n",
       " ('1287', 5.0, 978302039),\n",
       " ('2797', 4.0, 978302039),\n",
       " ('2762', 4.0, 978302091),\n",
       " ('1246', 4.0, 978302091),\n",
       " ('661', 3.0, 978302109),\n",
       " ('2918', 4.0, 978302124),\n",
       " ('531', 4.0, 978302149),\n",
       " ('3114', 4.0, 978302174),\n",
       " ('2791', 4.0, 978302188),\n",
       " ('2321', 3.0, 978302205),\n",
       " ('1029', 5.0, 978302205),\n",
       " ('1197', 3.0, 978302268),\n",
       " ('594', 4.0, 978302268),\n",
       " ('2398', 4.0, 978302281),\n",
       " ('1545', 4.0, 978824139),\n",
       " ('527', 5.0, 978824195),\n",
       " ('595', 5.0, 978824268),\n",
       " ('2687', 3.0, 978824268),\n",
       " ('745', 3.0, 978824268),\n",
       " ('588', 4.0, 978824268),\n",
       " ('1', 5.0, 978824268),\n",
       " ('2355', 5.0, 978824291),\n",
       " ('2294', 4.0, 978824291),\n",
       " ('783', 4.0, 978824291),\n",
       " ('1566', 4.0, 978824330),\n",
       " ('1907', 4.0, 978824330),\n",
       " ('48', 5.0, 978824351)]"
      ]
     },
     "execution_count": 3,
     "metadata": {},
     "output_type": "execute_result"
    }
   ],
   "source": [
    "import pickle\n",
    "\n",
    "readlist = pickle.load(open('cache/train_readlist.pkl', 'rb'))\n",
    "readlist['1']"
   ]
  },
  {
   "cell_type": "code",
   "execution_count": null,
   "metadata": {},
   "outputs": [
    {
     "ename": "UnpicklingError",
     "evalue": "could not find MARK",
     "output_type": "error",
     "traceback": [
      "\u001b[0;31m---------------------------------------------------------------------------\u001b[0m",
      "\u001b[0;31mUnpicklingError\u001b[0m                           Traceback (most recent call last)",
      "Cell \u001b[0;32mIn[2], line 4\u001b[0m\n\u001b[1;32m      1\u001b[0m \u001b[38;5;66;03m# 发现movies.dat里面的item id不是连续的，我们将其映射为连续的\u001b[39;00m\n\u001b[1;32m      2\u001b[0m \u001b[38;5;28;01mimport\u001b[39;00m \u001b[38;5;21;01mpickle\u001b[39;00m\n\u001b[0;32m----> 4\u001b[0m item_info \u001b[38;5;241m=\u001b[39m \u001b[43mpickle\u001b[49m\u001b[38;5;241;43m.\u001b[39;49m\u001b[43mload\u001b[49m\u001b[43m(\u001b[49m\u001b[38;5;28;43mopen\u001b[39;49m\u001b[43m(\u001b[49m\u001b[38;5;124;43m'\u001b[39;49m\u001b[38;5;124;43m/Users/zhanghaoyang/Desktop/Movie_Recsys/data/movies.dat\u001b[39;49m\u001b[38;5;124;43m'\u001b[39;49m\u001b[43m,\u001b[49m\u001b[43m \u001b[49m\u001b[38;5;124;43m'\u001b[39;49m\u001b[38;5;124;43mrb\u001b[39;49m\u001b[38;5;124;43m'\u001b[39;49m\u001b[43m)\u001b[49m\u001b[43m)\u001b[49m\n\u001b[1;32m      5\u001b[0m all_items_id \u001b[38;5;241m=\u001b[39m [\u001b[38;5;28mint\u001b[39m(i[\u001b[38;5;241m0\u001b[39m]) \u001b[38;5;28;01mfor\u001b[39;00m i \u001b[38;5;129;01min\u001b[39;00m item_info]\n\u001b[1;32m      6\u001b[0m item_id_2_int \u001b[38;5;241m=\u001b[39m \u001b[38;5;28mdict\u001b[39m(\u001b[38;5;28mlist\u001b[39m(\u001b[38;5;28mzip\u001b[39m(all_items_id, \u001b[38;5;28mrange\u001b[39m(\u001b[38;5;28mlen\u001b[39m(all_items_id)))))\n",
      "\u001b[0;31mUnpicklingError\u001b[0m: could not find MARK"
     ]
    }
   ],
   "source": [
    " # 发现movies.dat里面的item id不是连续的，我们将其映射为连续的\n",
    "import pickle\n",
    "\n",
    "item_info = pickle.load(open('/Users/zhanghaoyang/Desktop/Movie_Recsys/data/movies.dat', 'rb'))\n",
    "all_items_id = [int(i[0]) for i in item_info]\n",
    "item_id_2_int = dict(list(zip(all_items_id, range(len(all_items_id)))))\n",
    "int_2_item_id = dict(list(zip(range(len(all_items_id)), all_items_id)))\n",
    "pickle.dump(item_id_2_int, open('/Users/zhanghaoyang/Desktop/Movie_Recsys/cache/item_id_2_int.pkl', 'wb'))\n",
    "pickle.dump(int_2_item_id, open('/Users/zhanghaoyang/Desktop/Movie_Recsys/cache/int_2_item_id.pkl', 'wb'))"
   ]
  },
  {
   "cell_type": "code",
   "execution_count": null,
   "metadata": {},
   "outputs": [],
   "source": [
    "import pickle\n",
    "\n",
    "# 3: 1,4   2,3\n",
    "# 4: 1,5   2,2\n",
    "\n",
    "train_readlist = {\n",
    "    '1': [('3', 4, 324423), ('4', 5, 432432)],\n",
    "    '2': [('3', 3, 324423), ('4', 2, 432432)],\n",
    "}\n",
    "\n",
    "pickle.dump(train_readlist, open('./test_cache/train_readlist.pkl', 'wb'))"
   ]
  },
  {
   "cell_type": "code",
   "execution_count": 9,
   "metadata": {},
   "outputs": [
    {
     "data": {
      "text/plain": [
       "-4.059251294892744"
      ]
     },
     "execution_count": 9,
     "metadata": {},
     "output_type": "execute_result"
    }
   ],
   "source": [
    "import pickle\n",
    "\n",
    "def dot(x, y):\n",
    "    return sum([i * j for i, j in zip(x, y)])\n",
    "\n",
    "\n",
    "user_emb = pickle.load(open('/Users/zhanghaoyang/Desktop/Movie_Recsys/recall/DSSM/user_emb.pkl', 'rb'))\n",
    "item_emb = pickle.load(open('/Users/zhanghaoyang/Desktop/Movie_Recsys/recall/DSSM/item_emb.pkl', 'rb'))\n",
    "\n",
    "# print(user_emb[1])\n",
    "# print(item_emb[1])\n",
    "\n",
    "dot(user_emb[1], item_emb[3186])"
   ]
  },
  {
   "cell_type": "code",
   "execution_count": null,
   "metadata": {},
   "outputs": [],
   "source": [
    "1::1193::5::978300760\n",
    "1::661::3::978302109\n",
    "1::914::3::978301968\n",
    "1::3408::4::978300275\n",
    "1::2355::5::978824291\n",
    "1::1197::3::978302268\n",
    "1::1287::5::978302039\n",
    "1::2804::5::978300719\n",
    "1::594::4::978302268\n",
    "1::919::4::978301368\n",
    "1::595::5::978824268\n",
    "1::938::4::978301752\n",
    "1::2398::4::978302281\n",
    "1::2918::4::978302124\n",
    "1::1035::5::978301753\n",
    "1::2791::4::978302188\n",
    "1::2687::3::978824268\n",
    "1::2018::4::978301777\n",
    "1::3105::5::978301713\n",
    "1::2797::4::978302039\n",
    "1::2321::3::978302205\n",
    "1::720::3::978300760\n",
    "1::1270::5::978300055\n",
    "1::527::5::978824195\n",
    "1::2340::3::978300103\n",
    "1::48::5::978824351\n",
    "1::1097::4::978301953\n",
    "1::1721::4::978300055\n",
    "1::1545::4::978824139\n",
    "1::745::3::978824268\n",
    "1::2294::4::978824291\n",
    "1::3186::4::978300019\n",
    "1::1566::4::978824330\n",
    "1::588::4::978824268\n",
    "1::1907::4::978824330\n",
    "1::783::4::978824291\n",
    "1::1836::5::978300172\n",
    "1::1022::5::978300055\n",
    "1::2762::4::978302091\n",
    "1::150::5::978301777\n",
    "1::1::5::978824268\n",
    "1::1961::5::978301590\n",
    "1::1962::4::978301753\n",
    "1::2692::4::978301570\n",
    "1::260::4::978300760\n",
    "1::1028::5::978301777\n",
    "1::1029::5::978302205\n",
    "1::1207::4::978300719\n",
    "1::2028::5::978301619\n",
    "1::531::4::978302149\n",
    "1::3114::4::978302174\n",
    "1::608::4::978301398\n",
    "1::1246::4::978302091"
   ]
  },
  {
   "cell_type": "code",
   "execution_count": null,
   "metadata": {},
   "outputs": [],
   "source": []
  }
 ],
 "metadata": {
  "kernelspec": {
   "display_name": "base",
   "language": "python",
   "name": "python3"
  },
  "language_info": {
   "codemirror_mode": {
    "name": "ipython",
    "version": 3
   },
   "file_extension": ".py",
   "mimetype": "text/x-python",
   "name": "python",
   "nbconvert_exporter": "python",
   "pygments_lexer": "ipython3",
   "version": "3.12.8"
  }
 },
 "nbformat": 4,
 "nbformat_minor": 2
}
