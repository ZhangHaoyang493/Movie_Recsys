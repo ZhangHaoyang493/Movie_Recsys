{
 "cells": [
  {
   "cell_type": "code",
   "execution_count": 6,
   "metadata": {},
   "outputs": [
    {
     "name": "stdout",
     "output_type": "stream",
     "text": [
      "3706\n",
      "3883\n"
     ]
    }
   ],
   "source": [
    "# 用户看过的电影在所有电影中的占比\n",
    "hot_items = set()\n",
    "\n",
    "with open('./ratings.dat', 'r', encoding='ISO-8859-1') as f:\n",
    "    for line in f:\n",
    "        hot_items.add(line.split('::')[1])\n",
    "\n",
    "all_items = set()\n",
    "with open('./movies.dat', 'r', encoding='ISO-8859-1') as f:\n",
    "    for line in f:\n",
    "        all_items.add(line.split('::')[0])\n",
    "\n",
    "print(len(hot_items))\n",
    "print(len(all_items))"
   ]
  },
  {
   "cell_type": "code",
   "execution_count": 9,
   "metadata": {},
   "outputs": [
    {
     "name": "stdout",
     "output_type": "stream",
     "text": [
      "2653 30190 0.0878767803908579\n"
     ]
    }
   ],
   "source": [
    "import random\n",
    "\n",
    "neg_sample_items = []\n",
    "user_readlist_pos = {}\n",
    "\n",
    "with open('./ratings.dat', 'r', encoding='ISO-8859-1') as f:\n",
    "    for line in f:\n",
    "        user_id, item_id, score, _ = line.split('::') \n",
    "        neg_sample_items.append(item_id)\n",
    "        if int(score) >= 4:\n",
    "            if user_id not in user_readlist_pos:\n",
    "                user_readlist_pos[user_id] = set()\n",
    "            user_readlist_pos[user_id].add(item_id)\n",
    "\n",
    "all_neg = 0\n",
    "bad_neg = 0\n",
    "neg_sample_num = 5\n",
    "for k in user_readlist_pos.keys():\n",
    "    neg_samples = random.sample(neg_sample_items, neg_sample_num)\n",
    "    all_neg += neg_sample_num\n",
    "    for neg in neg_samples:\n",
    "        if neg in user_readlist_pos[k]:\n",
    "            bad_neg += 1\n",
    "\n",
    "print(bad_neg, all_neg, bad_neg / all_neg)"
   ]
  }
 ],
 "metadata": {
  "kernelspec": {
   "display_name": "Python 3",
   "language": "python",
   "name": "python3"
  },
  "language_info": {
   "codemirror_mode": {
    "name": "ipython",
    "version": 3
   },
   "file_extension": ".py",
   "mimetype": "text/x-python",
   "name": "python",
   "nbconvert_exporter": "python",
   "pygments_lexer": "ipython3",
   "version": "3.8.6"
  }
 },
 "nbformat": 4,
 "nbformat_minor": 2
}
