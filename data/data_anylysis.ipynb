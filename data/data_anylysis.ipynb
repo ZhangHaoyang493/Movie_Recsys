{
 "cells": [
  {
   "cell_type": "code",
   "execution_count": 6,
   "metadata": {},
   "outputs": [
    {
     "name": "stdout",
     "output_type": "stream",
     "text": [
      "3706\n",
      "3883\n"
     ]
    }
   ],
   "source": [
    "# 用户看过的电影在所有电影中的占比\n",
    "hot_items = set()\n",
    "\n",
    "with open('./ratings.dat', 'r', encoding='ISO-8859-1') as f:\n",
    "    for line in f:\n",
    "        hot_items.add(line.split('::')[1])\n",
    "\n",
    "all_items = set()\n",
    "with open('./movies.dat', 'r', encoding='ISO-8859-1') as f:\n",
    "    for line in f:\n",
    "        all_items.add(line.split('::')[0])\n",
    "\n",
    "print(len(hot_items))\n",
    "print(len(all_items))"
   ]
  },
  {
   "cell_type": "code",
   "execution_count": 9,
   "metadata": {},
   "outputs": [
    {
     "name": "stdout",
     "output_type": "stream",
     "text": [
      "2653 30190 0.0878767803908579\n"
     ]
    }
   ],
   "source": [
    "import random\n",
    "\n",
    "neg_sample_items = []\n",
    "user_readlist_pos = {}\n",
    "\n",
    "with open('./ratings.dat', 'r', encoding='ISO-8859-1') as f:\n",
    "    for line in f:\n",
    "        user_id, item_id, score, _ = line.split('::') \n",
    "        neg_sample_items.append(item_id)\n",
    "        if int(score) >= 4:\n",
    "            if user_id not in user_readlist_pos:\n",
    "                user_readlist_pos[user_id] = set()\n",
    "            user_readlist_pos[user_id].add(item_id)\n",
    "\n",
    "all_neg = 0\n",
    "bad_neg = 0\n",
    "neg_sample_num = 5\n",
    "for k in user_readlist_pos.keys():\n",
    "    neg_samples = random.sample(neg_sample_items, neg_sample_num)\n",
    "    all_neg += neg_sample_num\n",
    "    for neg in neg_samples:\n",
    "        if neg in user_readlist_pos[k]:\n",
    "            bad_neg += 1\n",
    "\n",
    "print(bad_neg, all_neg, bad_neg / all_neg)"
   ]
  },
  {
   "cell_type": "code",
   "execution_count": 1,
   "metadata": {},
   "outputs": [
    {
     "name": "stdout",
     "output_type": "stream",
     "text": [
      "8468 10832\n"
     ]
    }
   ],
   "source": [
    "import pickle\n",
    "\n",
    "val_data = pickle.load(open('/Users/zhanghaoyang/Desktop/Movie_Recsys/cache/val_data.pkl', 'rb'))\n",
    "\n",
    "pos, neg = 0, 0\n",
    "\n",
    "for k in val_data.keys():\n",
    "    readlist = val_data[k]\n",
    "    for i in readlist:\n",
    "        if i[1] >= 4:\n",
    "            pos += 1\n",
    "        else:\n",
    "            neg += 1\n",
    "print(pos, neg)"
   ]
  },
  {
   "cell_type": "code",
   "execution_count": 4,
   "metadata": {},
   "outputs": [
    {
     "name": "stdout",
     "output_type": "stream",
     "text": [
      "101 1 3.1953642384105962\n"
     ]
    }
   ],
   "source": [
    "import pickle\n",
    "\n",
    "val_data = pickle.load(open('/Users/zhanghaoyang/Desktop/Movie_Recsys/cache/val_data.pkl', 'rb'))\n",
    "\n",
    "pos, neg = 0, 0\n",
    "lens = []\n",
    "for k in val_data.keys():\n",
    "    readlist = val_data[k]\n",
    "    lens.append(len(readlist))\n",
    "# print(pos, neg)\n",
    "print(max(lens), min(lens), sum(lens) / len(lens))"
   ]
  },
  {
   "cell_type": "code",
   "execution_count": 2,
   "metadata": {},
   "outputs": [
    {
     "name": "stdout",
     "output_type": "stream",
     "text": [
      "20\n"
     ]
    }
   ],
   "source": [
    "import pickle\n",
    "\n",
    "readlist_data = pickle.load(open('/Users/zhanghaoyang/Desktop/Movie_Recsys/cache/readlist.pkl', 'rb'))\n",
    "readlist_len = []\n",
    "for userid in readlist_data.keys():\n",
    "    readlist = readlist_data[userid]\n",
    "    readlist_len.append(len(readlist))\n",
    "print(min(readlist_len))\n"
   ]
  },
  {
   "cell_type": "code",
   "execution_count": 9,
   "metadata": {},
   "outputs": [
    {
     "name": "stdout",
     "output_type": "stream",
     "text": [
      "6040\n",
      "[[4, 25], [25, 35], [35, 48], [48, 67], [67, 92], [92, 123], [123, 169], [169, 250], [251, 396], [396, 2311]]\n"
     ]
    }
   ],
   "source": [
    "import pickle\n",
    "\n",
    "user_fe = pickle.load(open('/Users/zhanghaoyang/Desktop/Movie_Recsys/cache/user_fe.pkl', 'rb'))\n",
    "acts = []\n",
    "for userid in user_fe.keys():\n",
    "    acts.append(user_fe[userid]['active'])\n",
    "acts = sorted(acts)\n",
    "print(len(acts))\n",
    "ans = []\n",
    "for i in range(0, len(acts), len(acts) // 10):\n",
    "    ans.append([min(acts[i:i+len(acts)//10]), max(acts[i:i+len(acts)//10])])\n",
    "print(ans)\n"
   ]
  },
  {
   "cell_type": "code",
   "execution_count": 10,
   "metadata": {},
   "outputs": [
    {
     "name": "stdout",
     "output_type": "stream",
     "text": [
      "6040\n",
      "[[0.0, 0.5650073513967655], [0.5651231647385592, 0.6920986733443456], [0.6921768707482985, 0.7875], [0.7875, 0.8783673469387755], [0.8784000000000005, 0.9750296679712132], [0.9751642365005614, 1.0757142857142854], [1.0759393390674514, 1.1907597981890423], [1.1910803537101105, 1.3465013456362935], [1.3468173706127304, 1.5862769298067412], [1.5891748003549264, 3.439212065250845]]\n"
     ]
    }
   ],
   "source": [
    "import pickle\n",
    "\n",
    "user_fe = pickle.load(open('/Users/zhanghaoyang/Desktop/Movie_Recsys/cache/user_fe.pkl', 'rb'))\n",
    "acts = []\n",
    "for userid in user_fe.keys():\n",
    "    acts.append(user_fe[userid]['std_score'])\n",
    "acts = sorted(acts)\n",
    "print(len(acts))\n",
    "ans = []\n",
    "for i in range(0, len(acts), len(acts) // 10):\n",
    "    ans.append([min(acts[i:i+len(acts)//10]), max(acts[i:i+len(acts)//10])])\n",
    "print(ans)\n"
   ]
  }
 ],
 "metadata": {
  "kernelspec": {
   "display_name": "base",
   "language": "python",
   "name": "python3"
  },
  "language_info": {
   "codemirror_mode": {
    "name": "ipython",
    "version": 3
   },
   "file_extension": ".py",
   "mimetype": "text/x-python",
   "name": "python",
   "nbconvert_exporter": "python",
   "pygments_lexer": "ipython3",
   "version": "3.12.8"
  }
 },
 "nbformat": 4,
 "nbformat_minor": 2
}
