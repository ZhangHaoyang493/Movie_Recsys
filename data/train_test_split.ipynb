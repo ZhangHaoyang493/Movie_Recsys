{
 "cells": [
  {
   "cell_type": "markdown",
   "metadata": {},
   "source": [
    "# 划分训练数据集和测试数据集\n",
    "基本思路如下：\n",
    "+ 统计打分日志的时间分布\n",
    "+ 确定一个时间边界，这个时间边界前的作为训练集，之后的作为测试集\n",
    "+ 时间边界的确定方法为选取后10%的数据作为测试集"
   ]
  },
  {
   "cell_type": "code",
   "execution_count": 1,
   "metadata": {},
   "outputs": [
    {
     "name": "stdout",
     "output_type": "stream",
     "text": [
      "993074159\n"
     ]
    }
   ],
   "source": [
    "timetamps = []\n",
    "with open('./ratings.dat', 'r') as f:\n",
    "    for line in f:\n",
    "        line = line.strip()\n",
    "        timestamp = int(line.split('::')[-1])\n",
    "        timetamps.append(timestamp)\n",
    "\n",
    "timetamps = sorted(timetamps)\n",
    "print(timetamps[int(len(timetamps) * 0.95)])"
   ]
  },
  {
   "cell_type": "code",
   "execution_count": 2,
   "metadata": {},
   "outputs": [],
   "source": [
    "train_data = []\n",
    "test_data = []\n",
    "with open('./ratings.dat', 'r') as f:\n",
    "    for line in f:\n",
    "        line = line.strip()\n",
    "        timestamp = int(line.split('::')[-1])\n",
    "        if timestamp >= 993074159:\n",
    "            test_data.append(line)\n",
    "        else:\n",
    "            train_data.append(line)\n",
    "\n",
    "with open('./train_ratings.dat', 'w') as f:\n",
    "    for line in train_data:\n",
    "        f.write(line + '\\n')\n",
    "\n",
    "with open('./test_ratings.dat', 'w') as f:\n",
    "    for line in test_data:\n",
    "        f.write(line + '\\n')"
   ]
  }
 ],
 "metadata": {
  "kernelspec": {
   "display_name": "base",
   "language": "python",
   "name": "python3"
  },
  "language_info": {
   "codemirror_mode": {
    "name": "ipython",
    "version": 3
   },
   "file_extension": ".py",
   "mimetype": "text/x-python",
   "name": "python",
   "nbconvert_exporter": "python",
   "pygments_lexer": "ipython3",
   "version": "3.12.8"
  }
 },
 "nbformat": 4,
 "nbformat_minor": 2
}
