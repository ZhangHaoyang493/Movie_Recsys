{
 "cells": [
  {
   "cell_type": "markdown",
   "id": "dc64ad31",
   "metadata": {},
   "source": [
    "# 统计所有用户的打分平均值"
   ]
  },
  {
   "cell_type": "code",
   "execution_count": 3,
   "id": "aba619c6",
   "metadata": {},
   "outputs": [
    {
     "name": "stdout",
     "output_type": "stream",
     "text": [
      "平均打分： 3.5869397746574925\n"
     ]
    }
   ],
   "source": [
    "all_score = 0\n",
    "all_ratings = 0\n",
    "with open('./train_ratings.dat', 'r') as f:\n",
    "    for line in f:\n",
    "        line = line.strip()\n",
    "        score = float(line.split('::')[2])\n",
    "        all_score += score\n",
    "        all_ratings += 1\n",
    "print('平均打分：', all_score / all_ratings)"
   ]
  },
  {
   "cell_type": "markdown",
   "id": "a69ce1ed",
   "metadata": {},
   "source": [
    "# 统计每个电影类型的欢迎度"
   ]
  },
  {
   "cell_type": "code",
   "execution_count": 10,
   "id": "fde5bad2",
   "metadata": {},
   "outputs": [
    {
     "name": "stdout",
     "output_type": "stream",
     "text": [
      "[('Comedy', 338547), ('Drama', 335503), ('Action', 247590), ('Thriller', 181101), ('Sci-Fi', 151199), ('Romance', 140144), ('Adventure', 128870), ('Crime', 76049), ('Horror', 72899), (\"Children's\", 68771), ('War', 65667), ('Animation', 41277), ('Musical', 39419), ('Mystery', 38395), ('Fantasy', 34881), ('Western', 19760), ('Film-Noir', 17531), ('Documentary', 7367)]\n"
     ]
    }
   ],
   "source": [
    "movie_dict = {}\n",
    "with open('./movies.dat', 'r', encoding='ISO-8859-1') as f:\n",
    "    for line in f:\n",
    "        line = line.strip()\n",
    "        movieid, name, kinds = line.split('::')\n",
    "        movie_dict[movieid] = kinds.split('|')\n",
    "\n",
    "kind_dict = {}\n",
    "with open('./train_ratings.dat', 'r') as f:\n",
    "    for line in f:\n",
    "        line = line.strip()\n",
    "        userid, movieid, _, _ = line.split('::')\n",
    "        for k in movie_dict[movieid]:\n",
    "            if k not in kind_dict:\n",
    "                kind_dict[k] = 1\n",
    "            else:\n",
    "                kind_dict[k] += 1\n",
    "kind_arr = list(kind_dict.items())\n",
    "kind_arr = sorted(kind_arr, key=lambda x: x[1], reverse=True)\n",
    "print(kind_arr)\n"
   ]
  }
 ],
 "metadata": {
  "kernelspec": {
   "display_name": "base",
   "language": "python",
   "name": "python3"
  },
  "language_info": {
   "codemirror_mode": {
    "name": "ipython",
    "version": 3
   },
   "file_extension": ".py",
   "mimetype": "text/x-python",
   "name": "python",
   "nbconvert_exporter": "python",
   "pygments_lexer": "ipython3",
   "version": "3.12.8"
  }
 },
 "nbformat": 4,
 "nbformat_minor": 5
}
