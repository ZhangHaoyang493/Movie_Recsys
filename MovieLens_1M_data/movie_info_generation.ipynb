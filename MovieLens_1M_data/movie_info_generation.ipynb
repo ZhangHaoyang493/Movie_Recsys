{
 "cells": [
  {
   "cell_type": "code",
   "execution_count": null,
   "id": "923a9dd2",
   "metadata": {},
   "outputs": [
    {
     "data": {
      "application/vnd.jupyter.widget-view+json": {
       "model_id": "7e6339a34a2a47caa05431824446781a",
       "version_major": 2,
       "version_minor": 0
      },
      "text/plain": [
       "  0%|          | 0/3883 [00:00<?, ?it/s]"
      ]
     },
     "metadata": {},
     "output_type": "display_data"
    },
    {
     "name": "stdout",
     "output_type": "stream",
     "text": [
      "{'English_title': 'Toy Story', 'Chinese_title': '玩具总动员', 'Chinese_description': '《玩具总动员》是一部由皮克斯动画工作室制作、迪士尼发行的电脑动画电影。影片讲述了一群玩具在主人看不见的时候拥有生命，并在主人安迪搬家时展开一场惊险的冒险旅程。影片中的主角胡迪和巴斯光年从最初的竞争对手变成了亲密的朋友，并在冒险中学会了互相合作与牺牲。', 'tags': ['动画', '冒险', '家庭', '喜剧', '经典'], 'director_chinese_name': '约翰·拉塞特', 'direction_English_name': 'John Lasseter', 'cast_English_name': ['Tom Hanks', 'Tim Allen', 'Don Rickles', 'Jim Varney', 'Wallace Shawn', 'John Ratzenberger', 'Annie Potts', 'Ben Burtt'], 'case_Chinese_name': ['汤姆·汉克斯', '提姆·艾伦', '唐·里克斯', '吉姆·瓦尼', '沃尔特·肖恩', '约翰·拉岑伯格', '安妮·波茨', '本·贝尔特'], 'country': '美国', 'language': '英语', 'release_year': 1995, 'duration': '81分钟'}\n",
      "{'English_title': 'Jumanji (1995)', 'Chinese_title': '天生一对（1995年）', 'Chinese_description': '一个神秘的棋盘游戏将玩家带入一个充满危险动物的原始森林，他们必须完成游戏并克服其中的挑战，才能回到现实世界。游戏中的冒险逐渐影响到现实生活，两位主角必须找到解决办法，拯救整个城市。', 'tags': ['冒险', '奇幻', '家庭', '喜剧'], 'director_chinese_name': '乔恩·费儒', 'direction_English_name': 'Jon Favreau', 'cast_English_name': ['Robin Williams', 'Jonathan Taylor Thomas', 'Bridget Fonda', 'Courtney Cox', 'Dennis Dugan'], 'case_Chinese_name': ['罗宾·威廉姆斯', '乔纳森·泰勒·托马斯', '布里吉特·芳达', '柯特妮·考克斯', '丹尼斯·杜根'], 'country': '美国', 'language': '英语', 'release_year': 1995, 'duration': '104分钟'}\n",
      "{'English_title': 'Grumpier Old Men', 'Chinese_title': '怒火重生', 'Chinese_description': '两个脾气暴躁的老人因为争夺湖边的房产而展开激烈的争斗，却在过程中逐渐发现彼此的相似之处，并建立起深厚的友谊。', 'tags': ['喜剧', '剧情', '老年生活'], 'director_chinese_name': '帕特里克·纳什', 'direction_English_name': 'Patrick Nash', 'cast_English_name': ['Jack Lemmon', 'Walter Matthau', 'Ann-Margret', 'Rhea Perlman'], 'case_Chinese_name': ['杰克·莱蒙', '沃尔特·马修', '安-玛格丽特', '丽娅·珀尔曼'], 'country': '美国', 'language': '英语', 'release_year': 1995, 'duration': '104分钟'}\n",
      "{'English_title': 'Waiting to Exhale', 'Chinese_title': '等待呼吸', 'Chinese_description': '四名非裔美国女性在面对爱情、婚姻和人生抉择时的故事。她们每个人都经历了一段感情上的困境，并在旅途中重新找到自我和生活的方向。', 'tags': ['爱情', '女性', '剧情', '成长'], 'director_chinese_name': '约翰·辛格顿', 'direction_English_name': 'John Singleton', 'cast_English_name': ['Whitney Houston', 'Taye Diggs', 'Angela Bassett', 'Lela Rochon', 'Lynne Thigpen'], 'case_Chinese_name': ['惠特妮·休斯顿', '泰·巴雷特', '安吉拉·贝塞特', '莱拉·罗琼', '琳恩·提格潘'], 'country': '美国', 'language': '英语', 'release_year': 1995, 'duration': '119分钟'}\n",
      "{'English_title': 'Father of the Bride Part II', 'Chinese_title': '天生一对2', 'Chinese_description': '史蒂夫和黛拉的第一个孩子出生了，他们的生活变得更加忙碌。史蒂夫在孩子的洗礼仪式上结识了黛拉的旧友艾德，他邀请史蒂夫与他一起去意大利度假，以放松身心。史蒂夫原本担心艾德可能对他产生威胁，但后来发现艾德其实是一个和他一样疼爱孩子的父亲。两人决定共同照顾孩子们，从而展开了一段令人啼笑皆非的旅程。', 'tags': ['喜剧', '家庭', '爱情', '续集'], 'director_chinese_name': '贾斯汀·扎克汉姆', 'direction_English_name': 'Justin Zackham', 'cast_English_name': ['George Clooney', 'Julie Roberts', 'Brittany Murphy', 'Alessandro Nivola', 'George Segal', 'Kathryn Hahn'], 'case_Chinese_name': ['乔治·克鲁尼', '茱莉亚·罗伯茨', '布丽特妮·墨菲', '亚历山德罗·尼沃拉', '乔治·席格', '凯瑟琳·海恩斯'], 'country': '美国', 'language': '英语', 'release_year': 1995, 'duration': '110分钟'}\n",
      "{'English_title': 'Heat', 'Chinese_title': '燃情岁月', 'Chinese_description': '《燃情岁月》讲述了一段发生在19世纪末美国西部的传奇故事。故事围绕着一个印第安部落和一个白人家庭之间展开，描绘了他们之间复杂的友谊、爱与冲突。导演迈克尔·柯蒂兹通过细腻的镜头语言，将西部的壮丽风光与人性的复杂情感完美融合。', 'tags': ['西部', '剧情', '爱情', '家庭'], 'director_chinese_name': '迈克尔·柯蒂兹', 'direction_English_name': 'Michael Curtiz', 'cast_English_name': ['亨利·方达', '罗伯特·瑞安', '范·强克', '约翰·卡拉丁'], 'case_Chinese_name': ['亨利·方达', '罗伯特·瑞安', '范·强克', '约翰·卡拉丁'], 'country': '美国', 'language': '英语', 'release_year': 1995, 'duration': '180分钟'}\n",
      "{'English_title': 'Sabrina (1995)', 'Chinese_title': '俏佳人', 'Chinese_description': '这是一部浪漫喜剧片，改编自1954年的经典作品。故事围绕着一个年轻女子Sabrina展开，她在美国富家子弟的生活中逐渐成长，并与其中一位展开了感情纠葛。', 'tags': ['爱情', '喜剧', '浪漫', '成长', '经典改编'], 'director_chinese_name': '芭芭拉·史翠珊', 'direction_English_name': 'Barbra Streisand', 'cast_English_name': ['Harrison Ford', 'Julia Roberts', 'Mark Ruffalo'], 'case_Chinese_name': ['哈里森·福特', '朱莉娅·罗伯茨', '马克·鲁法洛'], 'country': '美国', 'language': '英语', 'release_year': 1995, 'duration': '127分钟'}\n",
      "{'English_title': 'Tom and Huck', 'Chinese_title': '汤姆和哈克', 'Chinese_description': '该电影改编自马克·吐温的经典小说《汤姆·索亚历险记》和《哈克贝利·费恩历险记》，讲述了一群孩子在密西西比河上的冒险故事。', 'tags': ['冒险', '家庭', '经典文学改编'], 'director_chinese_name': '乔纳森·斯卡普托', 'direction_English_name': 'Jonathan Lonow', 'cast_English_name': ['Jonathan Taylor Thomas', 'Trevor Gibson', \"Catherine O'Hara\", 'Paul Sorvino', 'Courtney B. Vance', 'Joe Mantegna', 'Dabney Coleman'], 'case_Chinese_name': ['乔纳森·泰勒·托马斯', '特雷弗·吉布森', '凯瑟琳·奥哈拉', '保罗·索里维诺', '柯特妮·B·范斯', '乔·曼特尼亚', '达布尼·科尔曼'], 'country': '美国', 'language': '英语', 'release_year': 1995, 'duration': 101}\n",
      "{'English_title': 'Sudden Death (1995)', 'Chinese_title': '致命武器4', 'Chinese_description': '在一次国际恐怖分子策划的阴谋中，退役的FBI探员马丁·沃克重新出山，与新搭档杰里米·格里芬联手阻止了一场威胁全球的灾难。他们必须在极短的时间内找到解决办法，否则将导致数以百万计的人的生命危险。', 'tags': ['动作', '惊悚', '犯罪'], 'director_chinese_name': '罗兰·艾默里奇', 'direction_English_name': 'Roland Emmerich', 'cast_English_name': ['Bruce Willis', 'Terry Crews', 'Bill Paxton'], 'case_Chinese_name': ['布鲁斯·威利斯', '特里·克雷斯特', '比尔·帕克斯顿'], 'country': '美国', 'language': '英语', 'release_year': 1995, 'duration': '127分钟'}\n",
      "{'English_title': 'GoldenEye (1995)', 'Chinese_title': '黄金眼（1995）', 'Chinese_description': '詹姆斯·邦德退役后，007特工组织决定重启他的任务，以阻止一个名为“黄金眼”的计算机病毒，该病毒由前克格勃特工奥加洛夫策划，企图利用一个俄罗斯卫星武器系统来洗劫莫斯科的银行。邦德必须与旧日对手合作，同时面对新的挑战，以拯救世界免于混乱。', 'tags': ['动作', '惊悚', '间谍', '007系列', '科幻'], 'director_chinese_name': '马丁·坎贝尔', 'direction_English_name': 'Martin Campbell', 'cast_English_name': ['Pierce Brosnan', 'Tina Turner', 'Sebastian Koch', 'Jon Volchok', 'Bruce Gordon', 'Ralph Fiennes', 'Irene Jacob', 'Frank Langella', 'Peter MacNicol', 'Dexter Fletcher'], 'case_Chinese_name': ['皮尔斯·布鲁斯南', '蒂娜·透纳', '塞巴斯蒂安·科赫', '乔恩·沃尔乔克', '布鲁斯·戈登', '拉尔夫·费因斯', '伊琳·贝乔', '弗兰克·兰格拉', '彼得·麦尼科', '德克斯特·弗莱彻'], 'country': '英国, 美国', 'language': '英语', 'release_year': 1995, 'duration': '128分钟'}\n"
     ]
    },
    {
     "ename": "JSONDecodeError",
     "evalue": "Expecting value: line 1 column 1 (char 0)",
     "output_type": "error",
     "traceback": [
      "\u001b[0;31m---------------------------------------------------------------------------\u001b[0m",
      "\u001b[0;31mJSONDecodeError\u001b[0m                           Traceback (most recent call last)",
      "Cell \u001b[0;32mIn[14], line 40\u001b[0m\n\u001b[1;32m     38\u001b[0m \u001b[38;5;28;01mfor\u001b[39;00m line \u001b[38;5;129;01min\u001b[39;00m tqdm(lines):\n\u001b[1;32m     39\u001b[0m     movie_id, movie_title, movie_genres \u001b[38;5;241m=\u001b[39m line\u001b[38;5;241m.\u001b[39mstrip()\u001b[38;5;241m.\u001b[39msplit(\u001b[38;5;124m\"\u001b[39m\u001b[38;5;124m::\u001b[39m\u001b[38;5;124m\"\u001b[39m)\n\u001b[0;32m---> 40\u001b[0m     movie_data \u001b[38;5;241m=\u001b[39m \u001b[43mget_movie_details\u001b[49m\u001b[43m(\u001b[49m\u001b[43mmovie_title\u001b[49m\u001b[43m)\u001b[49m\n\u001b[1;32m     41\u001b[0m     \u001b[38;5;28mprint\u001b[39m(movie_data)\n\u001b[1;32m     42\u001b[0m     movie_details[movie_id] \u001b[38;5;241m=\u001b[39m movie_data\n",
      "Cell \u001b[0;32mIn[14], line 31\u001b[0m, in \u001b[0;36mget_movie_details\u001b[0;34m(movie_name)\u001b[0m\n\u001b[1;32m     20\u001b[0m response \u001b[38;5;241m=\u001b[39m client\u001b[38;5;241m.\u001b[39mchat\u001b[38;5;241m.\u001b[39mcompletions\u001b[38;5;241m.\u001b[39mcreate(\n\u001b[1;32m     21\u001b[0m     model\u001b[38;5;241m=\u001b[39m\u001b[38;5;124m\"\u001b[39m\u001b[38;5;124mecnu-plus\u001b[39m\u001b[38;5;124m\"\u001b[39m,\n\u001b[1;32m     22\u001b[0m     messages\u001b[38;5;241m=\u001b[39m[\n\u001b[0;32m   (...)\u001b[0m\n\u001b[1;32m     28\u001b[0m \n\u001b[1;32m     29\u001b[0m )\n\u001b[1;32m     30\u001b[0m json_str \u001b[38;5;241m=\u001b[39m response\u001b[38;5;241m.\u001b[39mchoices[\u001b[38;5;241m0\u001b[39m]\u001b[38;5;241m.\u001b[39mmessage\u001b[38;5;241m.\u001b[39mcontent\n\u001b[0;32m---> 31\u001b[0m data \u001b[38;5;241m=\u001b[39m \u001b[43mjson\u001b[49m\u001b[38;5;241;43m.\u001b[39;49m\u001b[43mloads\u001b[49m\u001b[43m(\u001b[49m\u001b[43mjson_str\u001b[49m\u001b[43m)\u001b[49m\n\u001b[1;32m     33\u001b[0m \u001b[38;5;28;01mreturn\u001b[39;00m data\n",
      "File \u001b[0;32m~/miniconda3/lib/python3.12/json/__init__.py:346\u001b[0m, in \u001b[0;36mloads\u001b[0;34m(s, cls, object_hook, parse_float, parse_int, parse_constant, object_pairs_hook, **kw)\u001b[0m\n\u001b[1;32m    341\u001b[0m     s \u001b[38;5;241m=\u001b[39m s\u001b[38;5;241m.\u001b[39mdecode(detect_encoding(s), \u001b[38;5;124m'\u001b[39m\u001b[38;5;124msurrogatepass\u001b[39m\u001b[38;5;124m'\u001b[39m)\n\u001b[1;32m    343\u001b[0m \u001b[38;5;28;01mif\u001b[39;00m (\u001b[38;5;28mcls\u001b[39m \u001b[38;5;129;01mis\u001b[39;00m \u001b[38;5;28;01mNone\u001b[39;00m \u001b[38;5;129;01mand\u001b[39;00m object_hook \u001b[38;5;129;01mis\u001b[39;00m \u001b[38;5;28;01mNone\u001b[39;00m \u001b[38;5;129;01mand\u001b[39;00m\n\u001b[1;32m    344\u001b[0m         parse_int \u001b[38;5;129;01mis\u001b[39;00m \u001b[38;5;28;01mNone\u001b[39;00m \u001b[38;5;129;01mand\u001b[39;00m parse_float \u001b[38;5;129;01mis\u001b[39;00m \u001b[38;5;28;01mNone\u001b[39;00m \u001b[38;5;129;01mand\u001b[39;00m\n\u001b[1;32m    345\u001b[0m         parse_constant \u001b[38;5;129;01mis\u001b[39;00m \u001b[38;5;28;01mNone\u001b[39;00m \u001b[38;5;129;01mand\u001b[39;00m object_pairs_hook \u001b[38;5;129;01mis\u001b[39;00m \u001b[38;5;28;01mNone\u001b[39;00m \u001b[38;5;129;01mand\u001b[39;00m \u001b[38;5;129;01mnot\u001b[39;00m kw):\n\u001b[0;32m--> 346\u001b[0m     \u001b[38;5;28;01mreturn\u001b[39;00m \u001b[43m_default_decoder\u001b[49m\u001b[38;5;241;43m.\u001b[39;49m\u001b[43mdecode\u001b[49m\u001b[43m(\u001b[49m\u001b[43ms\u001b[49m\u001b[43m)\u001b[49m\n\u001b[1;32m    347\u001b[0m \u001b[38;5;28;01mif\u001b[39;00m \u001b[38;5;28mcls\u001b[39m \u001b[38;5;129;01mis\u001b[39;00m \u001b[38;5;28;01mNone\u001b[39;00m:\n\u001b[1;32m    348\u001b[0m     \u001b[38;5;28mcls\u001b[39m \u001b[38;5;241m=\u001b[39m JSONDecoder\n",
      "File \u001b[0;32m~/miniconda3/lib/python3.12/json/decoder.py:338\u001b[0m, in \u001b[0;36mJSONDecoder.decode\u001b[0;34m(self, s, _w)\u001b[0m\n\u001b[1;32m    333\u001b[0m \u001b[38;5;28;01mdef\u001b[39;00m \u001b[38;5;21mdecode\u001b[39m(\u001b[38;5;28mself\u001b[39m, s, _w\u001b[38;5;241m=\u001b[39mWHITESPACE\u001b[38;5;241m.\u001b[39mmatch):\n\u001b[1;32m    334\u001b[0m \u001b[38;5;250m    \u001b[39m\u001b[38;5;124;03m\"\"\"Return the Python representation of ``s`` (a ``str`` instance\u001b[39;00m\n\u001b[1;32m    335\u001b[0m \u001b[38;5;124;03m    containing a JSON document).\u001b[39;00m\n\u001b[1;32m    336\u001b[0m \n\u001b[1;32m    337\u001b[0m \u001b[38;5;124;03m    \"\"\"\u001b[39;00m\n\u001b[0;32m--> 338\u001b[0m     obj, end \u001b[38;5;241m=\u001b[39m \u001b[38;5;28;43mself\u001b[39;49m\u001b[38;5;241;43m.\u001b[39;49m\u001b[43mraw_decode\u001b[49m\u001b[43m(\u001b[49m\u001b[43ms\u001b[49m\u001b[43m,\u001b[49m\u001b[43m \u001b[49m\u001b[43midx\u001b[49m\u001b[38;5;241;43m=\u001b[39;49m\u001b[43m_w\u001b[49m\u001b[43m(\u001b[49m\u001b[43ms\u001b[49m\u001b[43m,\u001b[49m\u001b[43m \u001b[49m\u001b[38;5;241;43m0\u001b[39;49m\u001b[43m)\u001b[49m\u001b[38;5;241;43m.\u001b[39;49m\u001b[43mend\u001b[49m\u001b[43m(\u001b[49m\u001b[43m)\u001b[49m\u001b[43m)\u001b[49m\n\u001b[1;32m    339\u001b[0m     end \u001b[38;5;241m=\u001b[39m _w(s, end)\u001b[38;5;241m.\u001b[39mend()\n\u001b[1;32m    340\u001b[0m     \u001b[38;5;28;01mif\u001b[39;00m end \u001b[38;5;241m!=\u001b[39m \u001b[38;5;28mlen\u001b[39m(s):\n",
      "File \u001b[0;32m~/miniconda3/lib/python3.12/json/decoder.py:356\u001b[0m, in \u001b[0;36mJSONDecoder.raw_decode\u001b[0;34m(self, s, idx)\u001b[0m\n\u001b[1;32m    354\u001b[0m     obj, end \u001b[38;5;241m=\u001b[39m \u001b[38;5;28mself\u001b[39m\u001b[38;5;241m.\u001b[39mscan_once(s, idx)\n\u001b[1;32m    355\u001b[0m \u001b[38;5;28;01mexcept\u001b[39;00m \u001b[38;5;167;01mStopIteration\u001b[39;00m \u001b[38;5;28;01mas\u001b[39;00m err:\n\u001b[0;32m--> 356\u001b[0m     \u001b[38;5;28;01mraise\u001b[39;00m JSONDecodeError(\u001b[38;5;124m\"\u001b[39m\u001b[38;5;124mExpecting value\u001b[39m\u001b[38;5;124m\"\u001b[39m, s, err\u001b[38;5;241m.\u001b[39mvalue) \u001b[38;5;28;01mfrom\u001b[39;00m \u001b[38;5;28;01mNone\u001b[39;00m\n\u001b[1;32m    357\u001b[0m \u001b[38;5;28;01mreturn\u001b[39;00m obj, end\n",
      "\u001b[0;31mJSONDecodeError\u001b[0m: Expecting value: line 1 column 1 (char 0)"
     ]
    }
   ],
   "source": [
    "from openai import OpenAI\n",
    "import json\n",
    "from tqdm.notebook import tqdm\n",
    "\n",
    "# 替换为你自己的 API Key（从 ECNU 获取）\n",
    "API_KEY = \"sk-94de3bb49cb74277b6249167cd77c188\"\n",
    "\n",
    "client = OpenAI(\n",
    "    api_key=API_KEY,\n",
    "    base_url=\"https://chat.ecnu.edu.cn/open/api/v1\"  # 注意：不包含 /chat/completions\n",
    ")\n",
    "\n",
    "\n",
    "def get_movie_details(movie_name):\n",
    "    prompt = f\"请提供电影英文名称为 {movie_name} 的电影的详细信息，包括中文名称，中文简介，中文标签，导演，主演，制片国家/地区，语言，上映时间，片长等。然后将这些信息以JSON格式返回，键名分别为 'English_title'，'Chinese_title'，'Chinese_description'，'tags'，'director_chinese_name'，'direction_English_name', 'cast_English_name'，'case_Chinese_name', 'country'，'language'，'release_year'，'duration'。具体的形式为：{{'English_title': '电影英文名称', 'Chinese_title': '电影中文名称', 'Chinese_description': '电影中文简介', 'tags': ['标签1', '标签2'], 'director_chinese_name': '导演中文名称', 'direction_English_name': '导演英文名称', 'cast_English_name': ['主演英文名称1', '主演英文名称2'], 'case_Chinese_name': ['主演中文名称1', '主演中文名称2'], 'country': '制片国家/地区', 'language': '语言', 'release_year': '上映时间', 'duration': '片长'}}。你只需要给出纯json数据，不需要其他多余的描述。不需要代码块。\"\n",
    "\n",
    "    response = client.chat.completions.create(\n",
    "        model=\"ecnu-plus\",\n",
    "        messages=[\n",
    "            {\"role\": \"system\", \"content\": \"你是一个电影信息专家。\"},\n",
    "            {\"role\": \"user\", \"content\": prompt}\n",
    "        ],\n",
    "        temperature=0.7,\n",
    "        max_tokens=5000\n",
    "\n",
    "    )\n",
    "    json_str = response.choices[0].message.content\n",
    "    data = json.loads(json_str)\n",
    "\n",
    "    return data\n",
    "\n",
    "with open(\"/Users/zhanghaoyang/Desktop/Movie_Recsys/MovieLens_1M_data/movies.dat\", \"r\", encoding='ISO-8859-1') as f:\n",
    "    lines = f.readlines()\n",
    "    movie_details = {}\n",
    "    for line in tqdm(lines):\n",
    "        movie_id, movie_title, movie_genres = line.strip().split(\"::\")\n",
    "        movie_data = get_movie_details(movie_title)\n",
    "        print(movie_data)\n",
    "        movie_details[movie_id] = movie_data\n",
    "    with open(\"movie_details.json\", \"w\", encoding=\"utf-8\") as f:\n",
    "        json.dump(movie_details, f, ensure_ascii=False, indent=4)\n",
    "\n"
   ]
  }
 ],
 "metadata": {
  "kernelspec": {
   "display_name": "base",
   "language": "python",
   "name": "python3"
  },
  "language_info": {
   "codemirror_mode": {
    "name": "ipython",
    "version": 3
   },
   "file_extension": ".py",
   "mimetype": "text/x-python",
   "name": "python",
   "nbconvert_exporter": "python",
   "pygments_lexer": "ipython3",
   "version": "3.12.8"
  }
 },
 "nbformat": 4,
 "nbformat_minor": 5
}
